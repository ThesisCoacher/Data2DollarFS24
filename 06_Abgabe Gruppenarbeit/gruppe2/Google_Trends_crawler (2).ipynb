{
  "nbformat": 4,
  "nbformat_minor": 0,
  "metadata": {
    "colab": {
      "provenance": []
    },
    "kernelspec": {
      "name": "python3",
      "display_name": "Python 3"
    },
    "language_info": {
      "name": "python"
    }
  },
  "cells": [
    {
      "cell_type": "code",
      "execution_count": null,
      "metadata": {
        "colab": {
          "base_uri": "https://localhost:8080/"
        },
        "id": "U1lZ71-Tbh32",
        "outputId": "9b26ee95-dfd6-4b14-c9e7-3c5684ea8da1"
      },
      "outputs": [
        {
          "output_type": "stream",
          "name": "stdout",
          "text": [
            "Requirement already satisfied: pytrends in /usr/local/lib/python3.10/dist-packages (4.9.2)\n",
            "Requirement already satisfied: requests>=2.0 in /usr/local/lib/python3.10/dist-packages (from pytrends) (2.31.0)\n",
            "Requirement already satisfied: pandas>=0.25 in /usr/local/lib/python3.10/dist-packages (from pytrends) (2.0.3)\n",
            "Requirement already satisfied: lxml in /usr/local/lib/python3.10/dist-packages (from pytrends) (4.9.4)\n",
            "Requirement already satisfied: python-dateutil>=2.8.2 in /usr/local/lib/python3.10/dist-packages (from pandas>=0.25->pytrends) (2.8.2)\n",
            "Requirement already satisfied: pytz>=2020.1 in /usr/local/lib/python3.10/dist-packages (from pandas>=0.25->pytrends) (2023.4)\n",
            "Requirement already satisfied: tzdata>=2022.1 in /usr/local/lib/python3.10/dist-packages (from pandas>=0.25->pytrends) (2024.1)\n",
            "Requirement already satisfied: numpy>=1.21.0 in /usr/local/lib/python3.10/dist-packages (from pandas>=0.25->pytrends) (1.25.2)\n",
            "Requirement already satisfied: charset-normalizer<4,>=2 in /usr/local/lib/python3.10/dist-packages (from requests>=2.0->pytrends) (3.3.2)\n",
            "Requirement already satisfied: idna<4,>=2.5 in /usr/local/lib/python3.10/dist-packages (from requests>=2.0->pytrends) (3.7)\n",
            "Requirement already satisfied: urllib3<3,>=1.21.1 in /usr/local/lib/python3.10/dist-packages (from requests>=2.0->pytrends) (2.0.7)\n",
            "Requirement already satisfied: certifi>=2017.4.17 in /usr/local/lib/python3.10/dist-packages (from requests>=2.0->pytrends) (2024.2.2)\n",
            "Requirement already satisfied: six>=1.5 in /usr/local/lib/python3.10/dist-packages (from python-dateutil>=2.8.2->pandas>=0.25->pytrends) (1.16.0)\n"
          ]
        }
      ],
      "source": [
        "# https://medium.com/@sinabaghaee96/data-extraction-from-google-trends-with-pytrends-1a89e33412bb\n",
        "# imports\n",
        "! pip install pytrends\n",
        "import pandas as pd\n",
        "import numpy as np\n",
        "from pytrends.request import TrendReq"
      ]
    },
    {
      "cell_type": "code",
      "source": [
        "# Create pytrends object\n",
        "pytrends = TrendReq(hl='de-CH', tz=360) # 'CH' means consider Switzerland as the search area"
      ],
      "metadata": {
        "id": "3tYPtIMwm1fm"
      },
      "execution_count": null,
      "outputs": []
    },
    {
      "cell_type": "code",
      "source": [
        "# Set your keyword and time frame\n",
        "keyword = ['Elmira'] # we give 'Elmira' as the search term\n",
        "timeframe = 'today 5-y'  # Time frame: last year"
      ],
      "metadata": {
        "id": "HHPrr34em_dw"
      },
      "execution_count": null,
      "outputs": []
    },
    {
      "cell_type": "code",
      "source": [
        "# Build the payload for the keyword\n",
        "pytrends.build_payload(kw_list=keyword,\n",
        "                       cat=71, # Category or 276 https://github.com/pat310/google-trends-api/wiki/Google-Trends-Categories\n",
        "                       timeframe=timeframe,\n",
        "                       geo='CH-ZH', # Geographic location, in this case 'Switzerland -Zurich'\n",
        "                       gprop='') # Google Search Property"
      ],
      "metadata": {
        "id": "zpANW2AZnQfk"
      },
      "execution_count": null,
      "outputs": []
    },
    {
      "cell_type": "code",
      "source": [
        "# Retrieve interest over time data\n",
        "interest_over_time_df = pytrends.interest_over_time() # store the interest rate which is between 0 and 100\n",
        "related_topics = pytrends.related_topics() # store related topics\n",
        "related_queries = pytrends.related_queries() # store related queries\n",
        "dff = interest_over_time_df.reset_index()\n",
        "dff.drop('isPartial', axis=1, inplace= True)"
      ],
      "metadata": {
        "id": "HiyPSFD7nyCT"
      },
      "execution_count": null,
      "outputs": []
    },
    {
      "cell_type": "code",
      "source": [
        "# Let's print interest_over_time_df\n",
        "print(interest_over_time_df)"
      ],
      "metadata": {
        "colab": {
          "base_uri": "https://localhost:8080/"
        },
        "id": "3RCwuzMVqeL1",
        "outputId": "87818961-fc1d-412c-b10a-035f086fb8c3"
      },
      "execution_count": null,
      "outputs": [
        {
          "output_type": "stream",
          "name": "stdout",
          "text": [
            "            Elmira  isPartial\n",
            "date                         \n",
            "2019-05-05       0      False\n",
            "2019-05-12       0      False\n",
            "2019-05-19       0      False\n",
            "2019-05-26       0      False\n",
            "2019-06-02       0      False\n",
            "...            ...        ...\n",
            "2024-04-07       0      False\n",
            "2024-04-14       0      False\n",
            "2024-04-21       6      False\n",
            "2024-04-28       3      False\n",
            "2024-05-05       0       True\n",
            "\n",
            "[262 rows x 2 columns]\n"
          ]
        }
      ]
    },
    {
      "cell_type": "code",
      "source": [
        "Multiple_keywords=[\n",
        "    \"Elmira\",\n",
        "    \"Red Lion Kloten\",\n",
        "    \"Restaurant Krone Altstetten\",\n",
        "    \"Sign Eat & Drink\",\n",
        "    \"Differente Hotel Krone Unterstrass\",\n",
        "    \"Alpenrose\",\n",
        "    \"Restaurant La Soupière\",\n",
        "    \"Haus zum Rüden\",\n",
        "    \"Restaurant Nihao\",\n",
        "    \"Ristorante Da Angela\",\n",
        "    \"Thach Restaurant\",\n",
        "    \"Zunfthaus zur Waag\",\n",
        "    \"Restaurant Ö\",\n",
        "    \"Didis Frieden\",\n",
        "    \"YENS\",\n",
        "    \"Bianchi\",\n",
        "    \"Rosalys Restaurant & Bar\",\n",
        "    \"Schweizerhof Bar\",\n",
        "    \"Kings Cave\",\n",
        "    \"Marktküche\",\n",
        "    \"Tadka Indisches Restaurant\"\n",
        "]"
      ],
      "metadata": {
        "id": "QIIuuFSPoCB4"
      },
      "execution_count": null,
      "outputs": []
    },
    {
      "cell_type": "code",
      "source": [
        "keywords = Multiple_keywords\n",
        "timeframe = 'today 5-y'  # Time frame: 5 last year\n",
        "\n",
        "# Loop through the list of keywords in groups of 5\n",
        "for i in range(0, len(keywords), 5):\n",
        "\n",
        "    # Extract the next 5 keywords for this iteration\n",
        "    keywords_5words = keywords[i:i+5]\n",
        "\n",
        "    # Build a payload to request Google Trends data for the current 5 keywords\n",
        "    pytrends.build_payload(kw_list=keywords_5words, cat=71, timeframe=timeframe, geo='CH-ZH', gprop='')\n",
        "\n",
        "    # Fetch interest over time data and reset the index to get a DataFrame\n",
        "    temp = pytrends.interest_over_time().reset_index()\n",
        "\n",
        "    # Drop the 'isPartial' column from the DataFrame\n",
        "    temp.drop('isPartial', axis=1, inplace=True)\n",
        "\n",
        "    # Merge the fetched data with an existing DataFrame ('dff') based on the 'date' column\n",
        "    dff = pd.merge(dff, temp, on=\"date\")\n",
        "    dff.to_csv('Restaurantinfo.csv', index=False)"
      ],
      "metadata": {
        "id": "7eM2vAVsoLk0"
      },
      "execution_count": null,
      "outputs": []
    },
    {
      "cell_type": "code",
      "source": [],
      "metadata": {
        "id": "bplAXOIyp3GI"
      },
      "execution_count": null,
      "outputs": []
    }
  ]
}